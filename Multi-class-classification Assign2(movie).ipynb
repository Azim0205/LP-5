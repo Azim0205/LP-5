{
 "cells": [
  {
   "cell_type": "markdown",
   "id": "9618ec78",
   "metadata": {
    "papermill": {
     "duration": 0.009915,
     "end_time": "2022-11-28T21:10:37.967617",
     "exception": false,
     "start_time": "2022-11-28T21:10:37.957702",
     "status": "completed"
    },
    "tags": []
   },
   "source": [
    "# Classifying movie reviews: a binary classification example\n",
    "Two-class classification, or binary classification, may be the most widely applied kind of machine-learning problem. In this example, you’ll learn to classify movie reviews as positive or negative, based on the text content of the reviews."
   ]
  },
  {
   "cell_type": "markdown",
   "id": "9b4e70f3",
   "metadata": {
    "papermill": {
     "duration": 0.007162,
     "end_time": "2022-11-28T21:10:37.984953",
     "exception": false,
     "start_time": "2022-11-28T21:10:37.977791",
     "status": "completed"
    },
    "tags": []
   },
   "source": [
    "## The IMDB dataset You’ll work with the IMDB dataset: \n",
    "a set of 50,000 highly polarized reviews from the Internet Movie Database. They’re split into 25,000 reviews for training and 25,000 reviews for testing, each set consisting of 50% negative and 50% positive reviews."
   ]
  },
  {
   "cell_type": "code",
   "execution_count": 1,
   "id": "76e4a89d",
   "metadata": {
    "execution": {
     "iopub.execute_input": "2022-11-28T21:10:38.002030Z",
     "iopub.status.busy": "2022-11-28T21:10:38.001476Z",
     "iopub.status.idle": "2022-11-28T21:10:50.136618Z",
     "shell.execute_reply": "2022-11-28T21:10:50.135035Z"
    },
    "papermill": {
     "duration": 12.148864,
     "end_time": "2022-11-28T21:10:50.141119",
     "exception": false,
     "start_time": "2022-11-28T21:10:37.992255",
     "status": "completed"
    },
    "tags": []
   },
   "outputs": [
    {
     "name": "stdout",
     "output_type": "stream",
     "text": [
      "Downloading data from https://storage.googleapis.com/tensorflow/tf-keras-datasets/imdb.npz\n",
      "17465344/17464789 [==============================] - 0s 0us/step\n",
      "17473536/17464789 [==============================] - 0s 0us/step\n"
     ]
    }
   ],
   "source": [
    "from tensorflow.keras.datasets import imdb\n",
    "\n",
    "# Load the data, keeping only 10,000 of the most frequently occuring words\n",
    "(train_data, train_labels), (test_data, test_labels) = imdb.load_data(num_words = 10000)"
   ]
  },
  {
   "cell_type": "markdown",
   "id": "ae505b2c",
   "metadata": {
    "papermill": {
     "duration": 0.007751,
     "end_time": "2022-11-28T21:10:50.158094",
     "exception": false,
     "start_time": "2022-11-28T21:10:50.150343",
     "status": "completed"
    },
    "tags": []
   },
   "source": [
    "The argument *num_words=10000* means you’ll only keep the top 10,000 most frequently occurring words in the training data. Rare words will be discarded. This allows you to work with vector data of manageable size."
   ]
  },
  {
   "cell_type": "code",
   "execution_count": 2,
   "id": "f6ae25e2",
   "metadata": {
    "execution": {
     "iopub.execute_input": "2022-11-28T21:10:50.175826Z",
     "iopub.status.busy": "2022-11-28T21:10:50.175018Z",
     "iopub.status.idle": "2022-11-28T21:10:50.188391Z",
     "shell.execute_reply": "2022-11-28T21:10:50.187341Z"
    },
    "papermill": {
     "duration": 0.026531,
     "end_time": "2022-11-28T21:10:50.192457",
     "exception": false,
     "start_time": "2022-11-28T21:10:50.165926",
     "status": "completed"
    },
    "tags": []
   },
   "outputs": [
    {
     "data": {
      "text/plain": [
       "[1,\n",
       " 14,\n",
       " 22,\n",
       " 16,\n",
       " 43,\n",
       " 530,\n",
       " 973,\n",
       " 1622,\n",
       " 1385,\n",
       " 65,\n",
       " 458,\n",
       " 4468,\n",
       " 66,\n",
       " 3941,\n",
       " 4,\n",
       " 173,\n",
       " 36,\n",
       " 256,\n",
       " 5,\n",
       " 25,\n",
       " 100,\n",
       " 43,\n",
       " 838,\n",
       " 112,\n",
       " 50,\n",
       " 670,\n",
       " 2,\n",
       " 9,\n",
       " 35,\n",
       " 480,\n",
       " 284,\n",
       " 5,\n",
       " 150,\n",
       " 4,\n",
       " 172,\n",
       " 112,\n",
       " 167,\n",
       " 2,\n",
       " 336,\n",
       " 385,\n",
       " 39,\n",
       " 4,\n",
       " 172,\n",
       " 4536,\n",
       " 1111,\n",
       " 17,\n",
       " 546,\n",
       " 38,\n",
       " 13,\n",
       " 447,\n",
       " 4,\n",
       " 192,\n",
       " 50,\n",
       " 16,\n",
       " 6,\n",
       " 147,\n",
       " 2025,\n",
       " 19,\n",
       " 14,\n",
       " 22,\n",
       " 4,\n",
       " 1920,\n",
       " 4613,\n",
       " 469,\n",
       " 4,\n",
       " 22,\n",
       " 71,\n",
       " 87,\n",
       " 12,\n",
       " 16,\n",
       " 43,\n",
       " 530,\n",
       " 38,\n",
       " 76,\n",
       " 15,\n",
       " 13,\n",
       " 1247,\n",
       " 4,\n",
       " 22,\n",
       " 17,\n",
       " 515,\n",
       " 17,\n",
       " 12,\n",
       " 16,\n",
       " 626,\n",
       " 18,\n",
       " 2,\n",
       " 5,\n",
       " 62,\n",
       " 386,\n",
       " 12,\n",
       " 8,\n",
       " 316,\n",
       " 8,\n",
       " 106,\n",
       " 5,\n",
       " 4,\n",
       " 2223,\n",
       " 5244,\n",
       " 16,\n",
       " 480,\n",
       " 66,\n",
       " 3785,\n",
       " 33,\n",
       " 4,\n",
       " 130,\n",
       " 12,\n",
       " 16,\n",
       " 38,\n",
       " 619,\n",
       " 5,\n",
       " 25,\n",
       " 124,\n",
       " 51,\n",
       " 36,\n",
       " 135,\n",
       " 48,\n",
       " 25,\n",
       " 1415,\n",
       " 33,\n",
       " 6,\n",
       " 22,\n",
       " 12,\n",
       " 215,\n",
       " 28,\n",
       " 77,\n",
       " 52,\n",
       " 5,\n",
       " 14,\n",
       " 407,\n",
       " 16,\n",
       " 82,\n",
       " 2,\n",
       " 8,\n",
       " 4,\n",
       " 107,\n",
       " 117,\n",
       " 5952,\n",
       " 15,\n",
       " 256,\n",
       " 4,\n",
       " 2,\n",
       " 7,\n",
       " 3766,\n",
       " 5,\n",
       " 723,\n",
       " 36,\n",
       " 71,\n",
       " 43,\n",
       " 530,\n",
       " 476,\n",
       " 26,\n",
       " 400,\n",
       " 317,\n",
       " 46,\n",
       " 7,\n",
       " 4,\n",
       " 2,\n",
       " 1029,\n",
       " 13,\n",
       " 104,\n",
       " 88,\n",
       " 4,\n",
       " 381,\n",
       " 15,\n",
       " 297,\n",
       " 98,\n",
       " 32,\n",
       " 2071,\n",
       " 56,\n",
       " 26,\n",
       " 141,\n",
       " 6,\n",
       " 194,\n",
       " 7486,\n",
       " 18,\n",
       " 4,\n",
       " 226,\n",
       " 22,\n",
       " 21,\n",
       " 134,\n",
       " 476,\n",
       " 26,\n",
       " 480,\n",
       " 5,\n",
       " 144,\n",
       " 30,\n",
       " 5535,\n",
       " 18,\n",
       " 51,\n",
       " 36,\n",
       " 28,\n",
       " 224,\n",
       " 92,\n",
       " 25,\n",
       " 104,\n",
       " 4,\n",
       " 226,\n",
       " 65,\n",
       " 16,\n",
       " 38,\n",
       " 1334,\n",
       " 88,\n",
       " 12,\n",
       " 16,\n",
       " 283,\n",
       " 5,\n",
       " 16,\n",
       " 4472,\n",
       " 113,\n",
       " 103,\n",
       " 32,\n",
       " 15,\n",
       " 16,\n",
       " 5345,\n",
       " 19,\n",
       " 178,\n",
       " 32]"
      ]
     },
     "execution_count": 2,
     "metadata": {},
     "output_type": "execute_result"
    }
   ],
   "source": [
    "train_data[0]"
   ]
  },
  {
   "cell_type": "code",
   "execution_count": 3,
   "id": "3a869568",
   "metadata": {
    "execution": {
     "iopub.execute_input": "2022-11-28T21:10:50.212363Z",
     "iopub.status.busy": "2022-11-28T21:10:50.211284Z",
     "iopub.status.idle": "2022-11-28T21:10:50.217737Z",
     "shell.execute_reply": "2022-11-28T21:10:50.216786Z"
    },
    "papermill": {
     "duration": 0.018224,
     "end_time": "2022-11-28T21:10:50.220036",
     "exception": false,
     "start_time": "2022-11-28T21:10:50.201812",
     "status": "completed"
    },
    "tags": []
   },
   "outputs": [
    {
     "data": {
      "text/plain": [
       "1"
      ]
     },
     "execution_count": 3,
     "metadata": {},
     "output_type": "execute_result"
    }
   ],
   "source": [
    "train_labels[0]"
   ]
  },
  {
   "cell_type": "markdown",
   "id": "7b587a1f",
   "metadata": {
    "papermill": {
     "duration": 0.007959,
     "end_time": "2022-11-28T21:10:50.236657",
     "exception": false,
     "start_time": "2022-11-28T21:10:50.228698",
     "status": "completed"
    },
    "tags": []
   },
   "source": [
    "Because you’re restricting yourself to the top 10,000 most frequent words, no word index will exceed 10,000:"
   ]
  },
  {
   "cell_type": "code",
   "execution_count": 4,
   "id": "48dea556",
   "metadata": {
    "execution": {
     "iopub.execute_input": "2022-11-28T21:10:50.254898Z",
     "iopub.status.busy": "2022-11-28T21:10:50.254099Z",
     "iopub.status.idle": "2022-11-28T21:10:50.397921Z",
     "shell.execute_reply": "2022-11-28T21:10:50.396887Z"
    },
    "papermill": {
     "duration": 0.155367,
     "end_time": "2022-11-28T21:10:50.400176",
     "exception": false,
     "start_time": "2022-11-28T21:10:50.244809",
     "status": "completed"
    },
    "tags": []
   },
   "outputs": [
    {
     "data": {
      "text/plain": [
       "9999"
      ]
     },
     "execution_count": 4,
     "metadata": {},
     "output_type": "execute_result"
    }
   ],
   "source": [
    "max([max(sequence) for sequence in train_data])"
   ]
  },
  {
   "cell_type": "code",
   "execution_count": 5,
   "id": "df8d24f9",
   "metadata": {
    "execution": {
     "iopub.execute_input": "2022-11-28T21:10:50.422341Z",
     "iopub.status.busy": "2022-11-28T21:10:50.420802Z",
     "iopub.status.idle": "2022-11-28T21:10:50.654230Z",
     "shell.execute_reply": "2022-11-28T21:10:50.652685Z"
    },
    "papermill": {
     "duration": 0.247366,
     "end_time": "2022-11-28T21:10:50.657607",
     "exception": false,
     "start_time": "2022-11-28T21:10:50.410241",
     "status": "completed"
    },
    "tags": []
   },
   "outputs": [
    {
     "name": "stdout",
     "output_type": "stream",
     "text": [
      "Downloading data from https://storage.googleapis.com/tensorflow/tf-keras-datasets/imdb_word_index.json\n",
      "1646592/1641221 [==============================] - 0s 0us/step\n",
      "1654784/1641221 [==============================] - 0s 0us/step\n"
     ]
    }
   ],
   "source": [
    "# Let's quickly decode a review\n",
    "\n",
    "# step 1: load the dictionary mappings from word to integer index\n",
    "word_index = imdb.get_word_index()\n",
    "\n",
    "# step 2: reverse word index to map integer indexes to their respective words\n",
    "reverse_word_index = dict([(value, key) for (key, value) in word_index.items()])\n",
    "\n",
    "# Step 3: decode the review, mapping integer indices to words\n",
    "'''Decodes the review. Note that the indices are offset by 3 \n",
    "        because 0, 1, and 2 are reserved indices for “padding,” “start of sequence,” and “unknown.”'''\n",
    "decoded_review = ' '.join([reverse_word_index.get(i-3, '?') for i in train_data[0]])\n"
   ]
  },
  {
   "cell_type": "code",
   "execution_count": 6,
   "id": "c92ad295",
   "metadata": {
    "execution": {
     "iopub.execute_input": "2022-11-28T21:10:50.678153Z",
     "iopub.status.busy": "2022-11-28T21:10:50.677653Z",
     "iopub.status.idle": "2022-11-28T21:10:50.685948Z",
     "shell.execute_reply": "2022-11-28T21:10:50.684515Z"
    },
    "papermill": {
     "duration": 0.022602,
     "end_time": "2022-11-28T21:10:50.688844",
     "exception": false,
     "start_time": "2022-11-28T21:10:50.666242",
     "status": "completed"
    },
    "tags": []
   },
   "outputs": [
    {
     "data": {
      "text/plain": [
       "\"? this film was just brilliant casting location scenery story direction everyone's really suited the part they played and you could just imagine being there robert ? is an amazing actor and now the same being director ? father came from the same scottish island as myself so i loved the fact there was a real connection with this film the witty remarks throughout the film were great it was just brilliant so much that i bought the film as soon as it was released for ? and would recommend it to everyone to watch and the fly fishing was amazing really cried at the end it was so sad and you know what they say if you cry at a film it must have been good and this definitely was also ? to the two little boy's that played the ? of norman and paul they were just brilliant children are often left out of the ? list i think because the stars that play them all grown up are such a big profile for the whole film but these children are amazing and should be praised for what they have done don't you think the whole story was so lovely because it was true and was someone's life after all that was shared with us all\""
      ]
     },
     "execution_count": 6,
     "metadata": {},
     "output_type": "execute_result"
    }
   ],
   "source": [
    "decoded_review"
   ]
  },
  {
   "cell_type": "markdown",
   "id": "d00220e0",
   "metadata": {
    "papermill": {
     "duration": 0.007859,
     "end_time": "2022-11-28T21:10:50.705532",
     "exception": false,
     "start_time": "2022-11-28T21:10:50.697673",
     "status": "completed"
    },
    "tags": []
   },
   "source": [
    "## Preparing the data: \n",
    "You can’t feed lists of integers into a neural network. You have to turn your lists into tensors. There are two ways to do that:\n",
    "- Pad your lists so that they all have the same length, turn them into an integer tensor of shape (samples, word_indices), and then use as the first layer in your network a layer capable of handling such integer tensors (the Embedding layer, which we’ll cover in detail later in the book). \n",
    "- One-hot encode your lists to turn them into vectors of 0s and 1s. This would mean, for instance, turning the sequence [3, 5] into a 10,000-dimensional vector that would be all 0s except for indices 3 and 5, which would be 1s. Then you could use as the first layer in your network a Dense layer, capable of handling floating-point vector data."
   ]
  },
  {
   "cell_type": "code",
   "execution_count": 7,
   "id": "17b97d51",
   "metadata": {
    "execution": {
     "iopub.execute_input": "2022-11-28T21:10:50.724539Z",
     "iopub.status.busy": "2022-11-28T21:10:50.723536Z",
     "iopub.status.idle": "2022-11-28T21:10:52.551256Z",
     "shell.execute_reply": "2022-11-28T21:10:52.550269Z"
    },
    "papermill": {
     "duration": 1.8406,
     "end_time": "2022-11-28T21:10:52.554150",
     "exception": false,
     "start_time": "2022-11-28T21:10:50.713550",
     "status": "completed"
    },
    "tags": []
   },
   "outputs": [],
   "source": [
    "#Encoding the integer sequences into a binary matrix\n",
    "'''Explaination: I first created 2D matrix of shape(number of examples,10000)\n",
    "        then I looped over each word of each example, if it exist put 1 in its place\n",
    "        if not just leave it as 0\n",
    "        ITS JUST ONE HOT ENCODER'''\n",
    "import numpy as np\n",
    "def vectorize_sequences(sequences, dimension=10000):\n",
    "    results = np.zeros((len(sequences), dimension))    # Creates an all zero matrix of shape (len(sequences),10K)\n",
    "    for i,sequence in enumerate(sequences):\n",
    "        results[i,sequence] = 1                        # Sets specific indices of results[i] to 1s\n",
    "    return results\n",
    "\n",
    "# Vectorize training Data\n",
    "X_train = vectorize_sequences(train_data)\n",
    "\n",
    "# Vectorize testing Data\n",
    "X_test = vectorize_sequences(test_data)"
   ]
  },
  {
   "cell_type": "code",
   "execution_count": 8,
   "id": "cec85266",
   "metadata": {
    "execution": {
     "iopub.execute_input": "2022-11-28T21:10:52.573658Z",
     "iopub.status.busy": "2022-11-28T21:10:52.573214Z",
     "iopub.status.idle": "2022-11-28T21:10:52.580724Z",
     "shell.execute_reply": "2022-11-28T21:10:52.579556Z"
    },
    "papermill": {
     "duration": 0.020086,
     "end_time": "2022-11-28T21:10:52.583021",
     "exception": false,
     "start_time": "2022-11-28T21:10:52.562935",
     "status": "completed"
    },
    "tags": []
   },
   "outputs": [
    {
     "data": {
      "text/plain": [
       "(25000, 10000)"
      ]
     },
     "execution_count": 8,
     "metadata": {},
     "output_type": "execute_result"
    }
   ],
   "source": [
    "X_train.shape"
   ]
  },
  {
   "cell_type": "code",
   "execution_count": 9,
   "id": "ca99d94a",
   "metadata": {
    "execution": {
     "iopub.execute_input": "2022-11-28T21:10:52.603497Z",
     "iopub.status.busy": "2022-11-28T21:10:52.603068Z",
     "iopub.status.idle": "2022-11-28T21:10:52.609690Z",
     "shell.execute_reply": "2022-11-28T21:10:52.607847Z"
    },
    "papermill": {
     "duration": 0.021139,
     "end_time": "2022-11-28T21:10:52.613208",
     "exception": false,
     "start_time": "2022-11-28T21:10:52.592069",
     "status": "completed"
    },
    "tags": []
   },
   "outputs": [],
   "source": [
    "#vectorize labels\n",
    "y_train = np.asarray(train_labels).astype('float32')\n",
    "y_test  = np.asarray(test_labels).astype('float32')"
   ]
  },
  {
   "cell_type": "code",
   "execution_count": 10,
   "id": "66173f0e",
   "metadata": {
    "execution": {
     "iopub.execute_input": "2022-11-28T21:10:52.633241Z",
     "iopub.status.busy": "2022-11-28T21:10:52.632758Z",
     "iopub.status.idle": "2022-11-28T21:10:52.750769Z",
     "shell.execute_reply": "2022-11-28T21:10:52.749691Z"
    },
    "papermill": {
     "duration": 0.130795,
     "end_time": "2022-11-28T21:10:52.753004",
     "exception": false,
     "start_time": "2022-11-28T21:10:52.622209",
     "status": "completed"
    },
    "tags": []
   },
   "outputs": [
    {
     "name": "stderr",
     "output_type": "stream",
     "text": [
      "2022-11-28 21:10:52.669899: I tensorflow/core/common_runtime/process_util.cc:146] Creating new thread pool with default inter op setting: 2. Tune using inter_op_parallelism_threads for best performance.\n"
     ]
    }
   ],
   "source": [
    "from tensorflow.keras import models\n",
    "from tensorflow.keras import layers\n",
    "\n",
    "model = models.Sequential()\n",
    "model.add(layers.Dense(16, activation='relu', input_shape=(10000,)))\n",
    "model.add(layers.Dense(16, activation='relu'))\n",
    "model.add(layers.Dense(1, activation='sigmoid'))"
   ]
  },
  {
   "cell_type": "markdown",
   "id": "6f51aaf6",
   "metadata": {
    "papermill": {
     "duration": 0.008731,
     "end_time": "2022-11-28T21:10:52.770822",
     "exception": false,
     "start_time": "2022-11-28T21:10:52.762091",
     "status": "completed"
    },
    "tags": []
   },
   "source": [
    "## Compiling the model"
   ]
  },
  {
   "cell_type": "code",
   "execution_count": 11,
   "id": "dba838d1",
   "metadata": {
    "execution": {
     "iopub.execute_input": "2022-11-28T21:10:52.792551Z",
     "iopub.status.busy": "2022-11-28T21:10:52.790931Z",
     "iopub.status.idle": "2022-11-28T21:10:52.808581Z",
     "shell.execute_reply": "2022-11-28T21:10:52.806879Z"
    },
    "papermill": {
     "duration": 0.031492,
     "end_time": "2022-11-28T21:10:52.811546",
     "exception": false,
     "start_time": "2022-11-28T21:10:52.780054",
     "status": "completed"
    },
    "tags": []
   },
   "outputs": [],
   "source": [
    "from tensorflow.keras import optimizers\n",
    "from tensorflow.keras import losses\n",
    "from tensorflow.keras import metrics\n",
    "\n",
    "model.compile(optimizer=optimizers.RMSprop(learning_rate=0.001),\n",
    "              loss = losses.binary_crossentropy,\n",
    "              metrics = [metrics.binary_accuracy])"
   ]
  },
  {
   "cell_type": "markdown",
   "id": "fb8e62f5",
   "metadata": {
    "papermill": {
     "duration": 0.00914,
     "end_time": "2022-11-28T21:10:52.829628",
     "exception": false,
     "start_time": "2022-11-28T21:10:52.820488",
     "status": "completed"
    },
    "tags": []
   },
   "source": [
    "## Validating your approach\n",
    "In order to monitor during training the accuracy of the model on data it has never seen before, you’ll create a validation set by setting apart 10,000 samples from the original training data."
   ]
  },
  {
   "cell_type": "code",
   "execution_count": 12,
   "id": "fdd2c0c3",
   "metadata": {
    "execution": {
     "iopub.execute_input": "2022-11-28T21:10:52.849286Z",
     "iopub.status.busy": "2022-11-28T21:10:52.848838Z",
     "iopub.status.idle": "2022-11-28T21:10:52.854952Z",
     "shell.execute_reply": "2022-11-28T21:10:52.853216Z"
    },
    "papermill": {
     "duration": 0.018871,
     "end_time": "2022-11-28T21:10:52.857122",
     "exception": false,
     "start_time": "2022-11-28T21:10:52.838251",
     "status": "completed"
    },
    "tags": []
   },
   "outputs": [],
   "source": [
    "# Input for Validation\n",
    "X_val = X_train[:10000]\n",
    "partial_X_train = X_train[10000:]\n",
    "\n",
    "# Labels for validation\n",
    "y_val = y_train[:10000]\n",
    "partial_y_train = y_train[10000:]"
   ]
  },
  {
   "cell_type": "code",
   "execution_count": 13,
   "id": "ac9c259c",
   "metadata": {
    "execution": {
     "iopub.execute_input": "2022-11-28T21:10:52.878235Z",
     "iopub.status.busy": "2022-11-28T21:10:52.877086Z",
     "iopub.status.idle": "2022-11-28T21:11:05.566562Z",
     "shell.execute_reply": "2022-11-28T21:11:05.564393Z"
    },
    "papermill": {
     "duration": 12.703428,
     "end_time": "2022-11-28T21:11:05.570099",
     "exception": false,
     "start_time": "2022-11-28T21:10:52.866671",
     "status": "completed"
    },
    "tags": []
   },
   "outputs": [
    {
     "name": "stderr",
     "output_type": "stream",
     "text": [
      "2022-11-28 21:10:54.194950: I tensorflow/compiler/mlir/mlir_graph_optimization_pass.cc:185] None of the MLIR Optimization Passes are enabled (registered 2)\n"
     ]
    },
    {
     "name": "stdout",
     "output_type": "stream",
     "text": [
      "Epoch 1/20\n",
      "30/30 [==============================] - 2s 35ms/step - loss: 0.5318 - binary_accuracy: 0.7740 - val_loss: 0.4200 - val_binary_accuracy: 0.8359\n",
      "Epoch 2/20\n",
      "30/30 [==============================] - 0s 16ms/step - loss: 0.3170 - binary_accuracy: 0.9026 - val_loss: 0.3175 - val_binary_accuracy: 0.8845\n",
      "Epoch 3/20\n",
      "30/30 [==============================] - 1s 17ms/step - loss: 0.2310 - binary_accuracy: 0.9278 - val_loss: 0.2862 - val_binary_accuracy: 0.8873\n",
      "Epoch 4/20\n",
      "30/30 [==============================] - 1s 17ms/step - loss: 0.1842 - binary_accuracy: 0.9407 - val_loss: 0.2772 - val_binary_accuracy: 0.8879\n",
      "Epoch 5/20\n",
      "30/30 [==============================] - 0s 17ms/step - loss: 0.1470 - binary_accuracy: 0.9537 - val_loss: 0.2971 - val_binary_accuracy: 0.8813\n",
      "Epoch 6/20\n",
      "30/30 [==============================] - 1s 17ms/step - loss: 0.1239 - binary_accuracy: 0.9617 - val_loss: 0.3034 - val_binary_accuracy: 0.8823\n",
      "Epoch 7/20\n",
      "30/30 [==============================] - 1s 17ms/step - loss: 0.1032 - binary_accuracy: 0.9697 - val_loss: 0.3133 - val_binary_accuracy: 0.8810\n",
      "Epoch 8/20\n",
      "30/30 [==============================] - 0s 15ms/step - loss: 0.0846 - binary_accuracy: 0.9776 - val_loss: 0.3281 - val_binary_accuracy: 0.8787\n",
      "Epoch 9/20\n",
      "30/30 [==============================] - 0s 16ms/step - loss: 0.0730 - binary_accuracy: 0.9800 - val_loss: 0.3470 - val_binary_accuracy: 0.8785\n",
      "Epoch 10/20\n",
      "30/30 [==============================] - 1s 17ms/step - loss: 0.0611 - binary_accuracy: 0.9844 - val_loss: 0.3704 - val_binary_accuracy: 0.8763\n",
      "Epoch 11/20\n",
      "30/30 [==============================] - 1s 17ms/step - loss: 0.0491 - binary_accuracy: 0.9889 - val_loss: 0.3981 - val_binary_accuracy: 0.8734\n",
      "Epoch 12/20\n",
      "30/30 [==============================] - 0s 17ms/step - loss: 0.0410 - binary_accuracy: 0.9911 - val_loss: 0.4173 - val_binary_accuracy: 0.8748\n",
      "Epoch 13/20\n",
      "30/30 [==============================] - 1s 17ms/step - loss: 0.0323 - binary_accuracy: 0.9935 - val_loss: 0.4495 - val_binary_accuracy: 0.8740\n",
      "Epoch 14/20\n",
      "30/30 [==============================] - 1s 18ms/step - loss: 0.0281 - binary_accuracy: 0.9936 - val_loss: 0.4782 - val_binary_accuracy: 0.8711\n",
      "Epoch 15/20\n",
      "30/30 [==============================] - 0s 17ms/step - loss: 0.0207 - binary_accuracy: 0.9969 - val_loss: 0.5064 - val_binary_accuracy: 0.8721\n",
      "Epoch 16/20\n",
      "30/30 [==============================] - 1s 18ms/step - loss: 0.0174 - binary_accuracy: 0.9975 - val_loss: 0.5392 - val_binary_accuracy: 0.8694\n",
      "Epoch 17/20\n",
      "30/30 [==============================] - 1s 18ms/step - loss: 0.0157 - binary_accuracy: 0.9969 - val_loss: 0.5629 - val_binary_accuracy: 0.8693\n",
      "Epoch 18/20\n",
      "30/30 [==============================] - 0s 16ms/step - loss: 0.0084 - binary_accuracy: 0.9995 - val_loss: 0.5886 - val_binary_accuracy: 0.8685\n",
      "Epoch 19/20\n",
      "30/30 [==============================] - 0s 16ms/step - loss: 0.0091 - binary_accuracy: 0.9993 - val_loss: 0.6248 - val_binary_accuracy: 0.8673\n",
      "Epoch 20/20\n",
      "30/30 [==============================] - 0s 15ms/step - loss: 0.0109 - binary_accuracy: 0.9971 - val_loss: 0.6583 - val_binary_accuracy: 0.8662\n"
     ]
    }
   ],
   "source": [
    "history = model.fit(partial_X_train,\n",
    "                   partial_y_train,\n",
    "                   epochs=20,\n",
    "                   batch_size=512,\n",
    "                   validation_data=(X_val, y_val))"
   ]
  },
  {
   "cell_type": "markdown",
   "id": "af5e95cd",
   "metadata": {
    "papermill": {
     "duration": 0.017338,
     "end_time": "2022-11-28T21:11:05.605554",
     "exception": false,
     "start_time": "2022-11-28T21:11:05.588216",
     "status": "completed"
    },
    "tags": []
   },
   "source": [
    "Note that the call to *model.fit()* returns a *History* object. This object has a member *history*, which is a dictionary containing data about everything that happened during training. Let’s look at it:"
   ]
  },
  {
   "cell_type": "code",
   "execution_count": 14,
   "id": "958b3b6e",
   "metadata": {
    "execution": {
     "iopub.execute_input": "2022-11-28T21:11:05.644679Z",
     "iopub.status.busy": "2022-11-28T21:11:05.644224Z",
     "iopub.status.idle": "2022-11-28T21:11:05.652077Z",
     "shell.execute_reply": "2022-11-28T21:11:05.650613Z"
    },
    "papermill": {
     "duration": 0.030318,
     "end_time": "2022-11-28T21:11:05.655027",
     "exception": false,
     "start_time": "2022-11-28T21:11:05.624709",
     "status": "completed"
    },
    "tags": []
   },
   "outputs": [
    {
     "data": {
      "text/plain": [
       "dict_keys(['loss', 'binary_accuracy', 'val_loss', 'val_binary_accuracy'])"
      ]
     },
     "execution_count": 14,
     "metadata": {},
     "output_type": "execute_result"
    }
   ],
   "source": [
    "history_dict = history.history\n",
    "history_dict.keys()"
   ]
  },
  {
   "cell_type": "markdown",
   "id": "6db7d40b",
   "metadata": {
    "papermill": {
     "duration": 0.017602,
     "end_time": "2022-11-28T21:11:05.691356",
     "exception": false,
     "start_time": "2022-11-28T21:11:05.673754",
     "status": "completed"
    },
    "tags": []
   },
   "source": [
    "## Plotting the training and validation loss"
   ]
  },
  {
   "cell_type": "code",
   "execution_count": 15,
   "id": "8484b1c9",
   "metadata": {
    "execution": {
     "iopub.execute_input": "2022-11-28T21:11:05.729628Z",
     "iopub.status.busy": "2022-11-28T21:11:05.728746Z",
     "iopub.status.idle": "2022-11-28T21:11:05.734663Z",
     "shell.execute_reply": "2022-11-28T21:11:05.733946Z"
    },
    "papermill": {
     "duration": 0.027421,
     "end_time": "2022-11-28T21:11:05.736509",
     "exception": false,
     "start_time": "2022-11-28T21:11:05.709088",
     "status": "completed"
    },
    "tags": []
   },
   "outputs": [],
   "source": [
    "import matplotlib.pyplot as plt\n",
    "%matplotlib inline"
   ]
  },
  {
   "cell_type": "code",
   "execution_count": 16,
   "id": "cdcb5cd0",
   "metadata": {
    "execution": {
     "iopub.execute_input": "2022-11-28T21:11:05.775036Z",
     "iopub.status.busy": "2022-11-28T21:11:05.773616Z",
     "iopub.status.idle": "2022-11-28T21:11:05.976303Z",
     "shell.execute_reply": "2022-11-28T21:11:05.975156Z"
    },
    "papermill": {
     "duration": 0.224046,
     "end_time": "2022-11-28T21:11:05.978473",
     "exception": false,
     "start_time": "2022-11-28T21:11:05.754427",
     "status": "completed"
    },
    "tags": []
   },
   "outputs": [
    {
     "data": {
      "image/png": "[encoded data removed]",
      "text/plain": [
       "<Figure size 432x288 with 1 Axes>"
      ]
     },
     "metadata": {
      "needs_background": "light"
     },
     "output_type": "display_data"
    }
   ],
   "source": [
    "# Plotting losses\n",
    "loss_values = history_dict['loss']\n",
    "val_loss_values = history_dict['val_loss']\n",
    "\n",
    "epochs = range(1, len(loss_values) + 1)\n",
    "\n",
    "plt.plot(epochs, loss_values, 'bo', label=\"Training Loss\")\n",
    "plt.plot(epochs, val_loss_values, 'b', label=\"Validation Loss\")\n",
    "\n",
    "plt.title('Training and Validation Loss')\n",
    "plt.xlabel('Epochs')\n",
    "plt.ylabel('Loss Value')\n",
    "plt.legend()\n",
    "\n",
    "plt.show()"
   ]
  },
  {
   "cell_type": "markdown",
   "id": "8d9eefec",
   "metadata": {
    "papermill": {
     "duration": 0.018892,
     "end_time": "2022-11-28T21:11:06.016805",
     "exception": false,
     "start_time": "2022-11-28T21:11:05.997913",
     "status": "completed"
    },
    "tags": []
   },
   "source": [
    "## Plotting the training and validation accuracy"
   ]
  },
  {
   "cell_type": "code",
   "execution_count": 17,
   "id": "7820941c",
   "metadata": {
    "execution": {
     "iopub.execute_input": "2022-11-28T21:11:06.057040Z",
     "iopub.status.busy": "2022-11-28T21:11:06.055842Z",
     "iopub.status.idle": "2022-11-28T21:11:06.217399Z",
     "shell.execute_reply": "2022-11-28T21:11:06.216623Z"
    },
    "papermill": {
     "duration": 0.184414,
     "end_time": "2022-11-28T21:11:06.220129",
     "exception": false,
     "start_time": "2022-11-28T21:11:06.035715",
     "status": "completed"
    },
    "tags": []
   },
   "outputs": [
    {
     "data": {
      "image/png": "[encoded data removed]",
      "text/plain": [
       "<Figure size 432x288 with 1 Axes>"
      ]
     },
     "metadata": {
      "needs_background": "light"
     },
     "output_type": "display_data"
    }
   ],
   "source": [
    "plt.clf() #Clears the figure \n",
    "acc_values = history_dict['binary_accuracy'] \n",
    "val_acc_values = history_dict['val_binary_accuracy'] \n",
    "plt.plot(epochs, acc_values, 'bo', label='Training acc') \n",
    "plt.plot(epochs, val_acc_values, 'b', label='Validation acc') \n",
    "plt.title('Training and validation accuracy') \n",
    "plt.xlabel('Epochs') \n",
    "plt.ylabel('Loss') \n",
    "plt.legend() \n",
    "plt.show()"
   ]
  },
  {
   "cell_type": "markdown",
   "id": "27b9a66a",
   "metadata": {
    "papermill": {
     "duration": 0.019254,
     "end_time": "2022-11-28T21:11:06.258279",
     "exception": false,
     "start_time": "2022-11-28T21:11:06.239025",
     "status": "completed"
    },
    "tags": []
   },
   "source": [
    "## Retraining a model from scratch"
   ]
  },
  {
   "cell_type": "code",
   "execution_count": 18,
   "id": "cbf2883f",
   "metadata": {
    "execution": {
     "iopub.execute_input": "2022-11-28T21:11:06.300493Z",
     "iopub.status.busy": "2022-11-28T21:11:06.299752Z",
     "iopub.status.idle": "2022-11-28T21:11:11.302734Z",
     "shell.execute_reply": "2022-11-28T21:11:11.301865Z"
    },
    "papermill": {
     "duration": 5.025919,
     "end_time": "2022-11-28T21:11:11.304543",
     "exception": false,
     "start_time": "2022-11-28T21:11:06.278624",
     "status": "completed"
    },
    "tags": []
   },
   "outputs": [
    {
     "name": "stdout",
     "output_type": "stream",
     "text": [
      "Epoch 1/4\n",
      "49/49 [==============================] - 1s 12ms/step - loss: 0.4303 - accuracy: 0.8331\n",
      "Epoch 2/4\n",
      "49/49 [==============================] - 1s 12ms/step - loss: 0.2522 - accuracy: 0.9100\n",
      "Epoch 3/4\n",
      "49/49 [==============================] - 1s 12ms/step - loss: 0.1948 - accuracy: 0.9311\n",
      "Epoch 4/4\n",
      "49/49 [==============================] - 1s 12ms/step - loss: 0.1617 - accuracy: 0.9436\n"
     ]
    },
    {
     "data": {
      "text/plain": [
       "<keras.callbacks.History at 0x7f687cf93290>"
      ]
     },
     "execution_count": 18,
     "metadata": {},
     "output_type": "execute_result"
    }
   ],
   "source": [
    "model = models.Sequential() \n",
    "model.add(layers.Dense(16, activation='relu', input_shape=(10000,))) \n",
    "model.add(layers.Dense(16, activation='relu')) \n",
    "model.add(layers.Dense(1, activation='sigmoid')) \n",
    "model.compile(optimizer='rmsprop', loss='binary_crossentropy', metrics=['accuracy']) \n",
    "model.fit(X_train, y_train, epochs=4, batch_size=512) \n"
   ]
  },
  {
   "cell_type": "code",
   "execution_count": 19,
   "id": "f94b6ce8",
   "metadata": {
    "execution": {
     "iopub.execute_input": "2022-11-28T21:11:11.352341Z",
     "iopub.status.busy": "2022-11-28T21:11:11.351309Z",
     "iopub.status.idle": "2022-11-28T21:11:14.169391Z",
     "shell.execute_reply": "2022-11-28T21:11:14.167796Z"
    },
    "papermill": {
     "duration": 2.84575,
     "end_time": "2022-11-28T21:11:14.172560",
     "exception": false,
     "start_time": "2022-11-28T21:11:11.326810",
     "status": "completed"
    },
    "tags": []
   },
   "outputs": [
    {
     "name": "stdout",
     "output_type": "stream",
     "text": [
      "782/782 [==============================] - 2s 2ms/step - loss: 0.3129 - accuracy: 0.8772\n"
     ]
    }
   ],
   "source": [
    "results = model.evaluate(X_test, y_test)"
   ]
  },
  {
   "cell_type": "markdown",
   "id": "52559489",
   "metadata": {
    "papermill": {
     "duration": 0.023673,
     "end_time": "2022-11-28T21:11:14.220734",
     "exception": false,
     "start_time": "2022-11-28T21:11:14.197061",
     "status": "completed"
    },
    "tags": []
   },
   "source": [
    "## Using a trained network to generate predictions on new data"
   ]
  },
  {
   "cell_type": "code",
   "execution_count": 20,
   "id": "6be62178",
   "metadata": {
    "execution": {
     "iopub.execute_input": "2022-11-28T21:11:14.272251Z",
     "iopub.status.busy": "2022-11-28T21:11:14.271692Z",
     "iopub.status.idle": "2022-11-28T21:11:16.350254Z",
     "shell.execute_reply": "2022-11-28T21:11:16.349377Z"
    },
    "papermill": {
     "duration": 2.107809,
     "end_time": "2022-11-28T21:11:16.352919",
     "exception": false,
     "start_time": "2022-11-28T21:11:14.245110",
     "status": "completed"
    },
    "tags": []
   },
   "outputs": [],
   "source": [
    "# Making Predictions for testing data\n",
    "np.set_printoptions(suppress=True)\n",
    "result = model.predict(X_test)"
   ]
  },
  {
   "cell_type": "code",
   "execution_count": 21,
   "id": "94a6c01c",
   "metadata": {
    "execution": {
     "iopub.execute_input": "2022-11-28T21:11:16.403409Z",
     "iopub.status.busy": "2022-11-28T21:11:16.402782Z",
     "iopub.status.idle": "2022-11-28T21:11:16.408341Z",
     "shell.execute_reply": "2022-11-28T21:11:16.407618Z"
    },
    "papermill": {
     "duration": 0.033812,
     "end_time": "2022-11-28T21:11:16.411119",
     "exception": false,
     "start_time": "2022-11-28T21:11:16.377307",
     "status": "completed"
    },
    "tags": []
   },
   "outputs": [
    {
     "data": {
      "text/plain": [
       "array([[0.26683778],\n",
       "       [0.999459  ],\n",
       "       [0.9682021 ],\n",
       "       ...,\n",
       "       [0.19655508],\n",
       "       [0.12795421],\n",
       "       [0.65130544]], dtype=float32)"
      ]
     },
     "execution_count": 21,
     "metadata": {},
     "output_type": "execute_result"
    }
   ],
   "source": [
    "result"
   ]
  },
  {
   "cell_type": "code",
   "execution_count": 22,
   "id": "f996af66",
   "metadata": {
    "execution": {
     "iopub.execute_input": "2022-11-28T21:11:16.462609Z",
     "iopub.status.busy": "2022-11-28T21:11:16.461914Z",
     "iopub.status.idle": "2022-11-28T21:11:16.542442Z",
     "shell.execute_reply": "2022-11-28T21:11:16.541224Z"
    },
    "papermill": {
     "duration": 0.109559,
     "end_time": "2022-11-28T21:11:16.545473",
     "exception": false,
     "start_time": "2022-11-28T21:11:16.435914",
     "status": "completed"
    },
    "tags": []
   },
   "outputs": [],
   "source": [
    "y_pred = np.zeros(len(result))\n",
    "for i, score in enumerate(result):\n",
    "    y_pred[i] = np.asarray([round(x) for x in score])"
   ]
  },
  {
   "cell_type": "code",
   "execution_count": 23,
   "id": "b7af87ea",
   "metadata": {
    "execution": {
     "iopub.execute_input": "2022-11-28T21:11:16.597460Z",
     "iopub.status.busy": "2022-11-28T21:11:16.596738Z",
     "iopub.status.idle": "2022-11-28T21:11:16.606095Z",
     "shell.execute_reply": "2022-11-28T21:11:16.604446Z"
    },
    "papermill": {
     "duration": 0.037335,
     "end_time": "2022-11-28T21:11:16.608442",
     "exception": false,
     "start_time": "2022-11-28T21:11:16.571107",
     "status": "completed"
    },
    "tags": []
   },
   "outputs": [
    {
     "data": {
      "text/plain": [
       "array([0., 1., 1., ..., 0., 0., 1.])"
      ]
     },
     "execution_count": 23,
     "metadata": {},
     "output_type": "execute_result"
    }
   ],
   "source": [
    "y_pred"
   ]
  },
  {
   "cell_type": "code",
   "execution_count": 24,
   "id": "e642d5c5",
   "metadata": {
    "execution": {
     "iopub.execute_input": "2022-11-28T21:11:16.658880Z",
     "iopub.status.busy": "2022-11-28T21:11:16.657675Z",
     "iopub.status.idle": "2022-11-28T21:11:16.665634Z",
     "shell.execute_reply": "2022-11-28T21:11:16.664044Z"
    },
    "papermill": {
     "duration": 0.036782,
     "end_time": "2022-11-28T21:11:16.669041",
     "exception": false,
     "start_time": "2022-11-28T21:11:16.632259",
     "status": "completed"
    },
    "tags": []
   },
   "outputs": [],
   "source": [
    "from tensorflow.keras.metrics import mean_absolute_error\n",
    "mae = mean_absolute_error = (y_pred, y_test)"
   ]
  },
  {
   "cell_type": "code",
   "execution_count": 25,
   "id": "3e0957d2",
   "metadata": {
    "execution": {
     "iopub.execute_input": "2022-11-28T21:11:16.719752Z",
     "iopub.status.busy": "2022-11-28T21:11:16.719300Z",
     "iopub.status.idle": "2022-11-28T21:11:16.727060Z",
     "shell.execute_reply": "2022-11-28T21:11:16.725863Z"
    },
    "papermill": {
     "duration": 0.035811,
     "end_time": "2022-11-28T21:11:16.729156",
     "exception": false,
     "start_time": "2022-11-28T21:11:16.693345",
     "status": "completed"
    },
    "tags": []
   },
   "outputs": [
    {
     "data": {
      "text/plain": [
       "(array([0., 1., 1., ..., 0., 0., 1.]),\n",
       " array([0., 1., 1., ..., 0., 0., 0.], dtype=float32))"
      ]
     },
     "execution_count": 25,
     "metadata": {},
     "output_type": "execute_result"
    }
   ],
   "source": [
    "# Error\n",
    "mae"
   ]
  }
 ],
 "metadata": {
  "kernelspec": {
   "display_name": "Python 3",
   "language": "python",
   "name": "python3"
  },
  "language_info": {
   "codemirror_mode": {
    "name": "ipython",
    "version": 3
   },
   "file_extension": ".py",
   "mimetype": "text/x-python",
   "name": "python",
   "nbconvert_exporter": "python",
   "pygments_lexer": "ipython3",
   "version": "3.7.12"
  },
  "papermill": {
   "default_parameters": {},
   "duration": 50.24988,
   "end_time": "2022-11-28T21:11:19.846964",
   "environment_variables": {},
   "exception": null,
   "input_path": "__notebook__.ipynb",
   "output_path": "__notebook__.ipynb",
   "parameters": {},
   "start_time": "2022-11-28T21:10:29.597084",
   "version": "2.3.4"
  }
 },
 "nbformat": 4,
 "nbformat_minor": 5
}
